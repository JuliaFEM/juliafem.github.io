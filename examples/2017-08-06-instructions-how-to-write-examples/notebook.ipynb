{
 "cells": [
  {
   "cell_type": "markdown",
   "metadata": {},
   "source": [
    "These instructions describe how to make calculation example using Jupyter Notebooks. All files should be in a single directory, use coding `yyyy-mm-dd-description-of-my-notebook`, e.g. `2017-08-06-instructions-how-to-write-examples`.\n",
    "\n",
    "After you are ready with the notebook, use use `jupyter nbconvert` to convert notebook to html. Use basic template. For this notebook, the command was\n",
    "\n",
    "```\n",
    "    jupyter nbconvert --to html --template basic notebook.ipynb\n",
    "```\n",
    "\n",
    "You can have this in your `Makefile`, if still experimenting. Content of `Makefile` for this notebook is\n",
    "\n",
    "```\n",
    "all:\n",
    "        jupyter nbconvert --to html --template basic notebook.ipynb\n",
    "```\n",
    "\n",
    "After that create `index.md` containing metadata for example. Moreover, in `index.md` one must include just generated html file. The content of the `index.md` for this post is\n",
    "\n",
    "{% raw %}\n",
    "```\n",
    "---\n",
    "layout: example\n",
    "author: Jukka Aho\n",
    "title:  Instructions how to write examples using Jupyter notebook\n",
    "date:   2017-08-06 18:00:00 +0300\n",
    "categories: instructions\n",
    "---\n",
    "\n",
    "{% include_relative notebook.html %}\n",
    "```\n",
    "{% endraw %}\n",
    "\n",
    "\n",
    "The last line including notebook may differ depending the name of the notebook. \n",
    "\n",
    "It's preferable to add some categories to post, I case that later on we filter posts by them.\n",
    "\n",
    "Add category of used JuliaFEM version, e.g. `juliafem-0.3.0`. Also, it's good to show in notebook, what version of Julia and JuliaFEM is currently used, i.e."
   ]
  },
  {
   "cell_type": "code",
   "execution_count": 1,
   "metadata": {},
   "outputs": [
    {
     "name": "stdout",
     "output_type": "stream",
     "text": [
      "Julia version = 0.6.0\n"
     ]
    }
   ],
   "source": [
    "println(\"Julia version = $VERSION\")"
   ]
  },
  {
   "cell_type": "code",
   "execution_count": 2,
   "metadata": {},
   "outputs": [
    {
     "name": "stderr",
     "output_type": "stream",
     "text": [
      "\u001b[1m\u001b[33mWARNING: \u001b[39m\u001b[22m\u001b[33munknown Conda commit ebc2e3fb, metadata may be ahead of package cache\u001b[39m\n",
      "\u001b[1m\u001b[33mWARNING: \u001b[39m\u001b[22m\u001b[33munknown Conda commit f7a05aa0, metadata may be ahead of package cache\u001b[39m\n"
     ]
    },
    {
     "name": "stdout",
     "output_type": "stream",
     "text": [
      " - JuliaFEM                      0.3.0+             documentation\n"
     ]
    }
   ],
   "source": [
    "Pkg.status(\"JuliaFEM\")"
   ]
  },
  {
   "cell_type": "markdown",
   "metadata": {},
   "source": [
    "Also use `JuliaFEM.print_statistics()` when necessary to give information about the runtimes of models.\n",
    "\n",
    "When everything is ready, fork `juliafem.github.io`, add directory to `/examples/` and do pull request as usual."
   ]
  }
 ],
 "metadata": {
  "kernelspec": {
   "display_name": "Julia 0.6.0",
   "language": "julia",
   "name": "julia-0.6"
  },
  "language_info": {
   "file_extension": ".jl",
   "mimetype": "application/julia",
   "name": "julia",
   "version": "0.6.0"
  }
 },
 "nbformat": 4,
 "nbformat_minor": 2
}
