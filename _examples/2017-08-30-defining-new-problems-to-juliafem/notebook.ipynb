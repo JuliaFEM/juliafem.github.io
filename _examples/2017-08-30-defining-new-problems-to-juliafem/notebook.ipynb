{
 "cells": [
  {
   "cell_type": "markdown",
   "metadata": {},
   "source": [
    "This is the first part of series of posts about programming new features to JuliaFEM. Simple examples demonstrating main concepts is given. As an example problem, we aim to program new truss element to JuliaFEM.\n",
    "\n",
    "<!-- more -->\n",
    "\n",
    "In principle, all one needs to do is to define a new type of problem, define what kind of field is expected to return and then implement `assemble!`-function which takes the assembly, problem, and a list of elements to assemble. All development can be done using Jupyter Notebooks if wanted."
   ]
  },
  {
   "cell_type": "code",
   "execution_count": 1,
   "metadata": {},
   "outputs": [
    {
     "name": "stderr",
     "output_type": "stream",
     "text": [
      "WARNING: Method definition info(Any...) in module Base at util.jl:532 overwritten in module Logging at C:\\Users\\jahx06\\.julia\\v0.6\\Logging\\src\\Logging.jl:115.\n",
      "WARNING: Method definition warn(Any...) in module Base at util.jl:585 overwritten in module Logging at C:\\Users\\jahx06\\.julia\\v0.6\\Logging\\src\\Logging.jl:115.\n",
      "01-Sep 11:36:33:WARNING:root:replacing docs for 'JuliaFEM.field :: Tuple{Float64}' in module 'JuliaFEM'.\n",
      "01-Sep 11:36:33:WARNING:root:replacing docs for 'JuliaFEM.field :: Tuple{Float64}' in module 'JuliaFEM'.\n",
      "01-Sep 11:36:37:WARNING:root:replacing docs for 'JuliaFEM.solver :: Tuple{}' in module 'JuliaFEM'.\n"
     ]
    },
    {
     "name": "stdout",
     "output_type": "stream",
     "text": [
      " - JuliaFEM                      0.3.2+             master\n"
     ]
    }
   ],
   "source": [
    "using JuliaFEM\n",
    "import JuliaFEM: assemble!, get_unknown_field_name\n",
    "Pkg.status(\"JuliaFEM\")"
   ]
  },
  {
   "cell_type": "markdown",
   "metadata": {},
   "source": [
    "The first thing needs to be done is to define new type which is a subtype of `FieldProblem` or `BoundaryProblem`. Boundary problems are affecting to the boundaries of domain while field problems is the actual field equation. A new type can have some internal properties defined if needed, as long as good defaults are provided. Our problem, in this case is simply:"
   ]
  },
  {
   "cell_type": "code",
   "execution_count": 2,
   "metadata": {
    "collapsed": true
   },
   "outputs": [],
   "source": [
    "type Truss <: FieldProblem\n",
    "end"
   ]
  },
  {
   "cell_type": "markdown",
   "metadata": {},
   "source": [
    "It's mandatory to define what kind of result can be expected from assembly procedure. This is more likely to be changed in future, but for now the return type is defined by a function `get_unknown_field_name`. In this particular case, we want to solve equations of elasticity and the unknown field is thus `displacement`:"
   ]
  },
  {
   "cell_type": "code",
   "execution_count": 3,
   "metadata": {},
   "outputs": [
    {
     "data": {
      "text/plain": [
       "get_unknown_field_name (generic function with 6 methods)"
      ]
     },
     "execution_count": 3,
     "metadata": {},
     "output_type": "execute_result"
    }
   ],
   "source": [
    "function get_unknown_field_name(problem::Problem{Truss})\n",
    "    return \"displacement\"\n",
    "end"
   ]
  },
  {
   "cell_type": "markdown",
   "metadata": {},
   "source": [
    "The last thing is to provide a function which takes care of assembling element for problem global matrices defined inside problem as `problem.assembly`. To keep things simple, a very basic assembly procedure is implemented and it is improved in later posts. For now it's enough to know that local stiffness matrix for truss element is\n",
    "\n",
    "\\begin{align}\n",
    "K_{\\mathrm{e}} & =\\frac{EA}{L}\\left[\\begin{array}{rr}\n",
    "1 & -1\\\\\n",
    "-1 & 1\n",
    "\\end{array}\\right] & f_{e} & =\\frac{qL}{2}\\left[\\begin{array}{c}\n",
    "1\\\\\n",
    "1\n",
    "\\end{array}\\right]\n",
    "\\end{align}"
   ]
  },
  {
   "cell_type": "code",
   "execution_count": 4,
   "metadata": {},
   "outputs": [
    {
     "data": {
      "text/plain": [
       "assemble! (generic function with 36 methods)"
      ]
     },
     "execution_count": 4,
     "metadata": {},
     "output_type": "execute_result"
    }
   ],
   "source": [
    "function assemble!(assembly::Assembly, problem::Problem{Truss},\n",
    "                   element::Element{Seg2}, time)\n",
    "    X = element(\"geometry\", time)  # get geometry\n",
    "    L = norm(X[2] - X[1])  # calculate length of rod\n",
    "    E = 1.0\n",
    "    A = 1.0\n",
    "    q = 1.0\n",
    "    Ke = E*A/L*[1.0 -1.0; -1.0 1.0]\n",
    "    fe = q*L/2*[1.0, 1.0]\n",
    "    gdofs = get_gdofs(problem, element)  # find global dofs of element\n",
    "    add!(assembly.K, gdofs, gdofs, Ke)\n",
    "    add!(assembly.f, gdofs, fe)\n",
    "end"
   ]
  },
  {
   "cell_type": "markdown",
   "metadata": {},
   "source": [
    "Now, to test our implementation we create a simple 1d truss problem with two elements, assemble that and examine the global stiffness matrix and force vector:"
   ]
  },
  {
   "cell_type": "code",
   "execution_count": 5,
   "metadata": {},
   "outputs": [
    {
     "name": "stderr",
     "output_type": "stream",
     "text": [
      "01-Sep 11:37:08:WARNING:root:Assemble problem test problem: seems that problem is uninitialized.\n",
      "01-Sep 11:37:08:INFO:root:Initializing problem test problem at time 0.0 automatically.\n",
      "01-Sep 11:37:08:WARNING:root:assemble!() this is default assemble operation, decreased performance can be expected without preallocation of memory!\n"
     ]
    },
    {
     "data": {
      "text/plain": [
       "true"
      ]
     },
     "execution_count": 5,
     "metadata": {},
     "output_type": "execute_result"
    }
   ],
   "source": [
    "X = Dict(1 => [0.0], 2 => [1.0], 3 => [2.0])\n",
    "element1 = Element(Seg2, [1, 2])\n",
    "element2 = Element(Seg2, [2, 3])\n",
    "elements = [element1, element2]\n",
    "update!(elements, \"geometry\", X)\n",
    "problem = Problem(Truss, \"test problem\", 1)\n",
    "add_elements!(problem, elements)\n",
    "assemble!(problem)"
   ]
  },
  {
   "cell_type": "markdown",
   "metadata": {},
   "source": [
    "We can then find the results from `problem.assembly`, i.e."
   ]
  },
  {
   "cell_type": "code",
   "execution_count": 6,
   "metadata": {},
   "outputs": [
    {
     "data": {
      "text/plain": [
       "3×3 Array{Float64,2}:\n",
       "  1.0  -1.0   0.0\n",
       " -1.0   2.0  -1.0\n",
       "  0.0  -1.0   1.0"
      ]
     },
     "execution_count": 6,
     "metadata": {},
     "output_type": "execute_result"
    }
   ],
   "source": [
    "full(problem.assembly.K)"
   ]
  },
  {
   "cell_type": "code",
   "execution_count": 7,
   "metadata": {},
   "outputs": [
    {
     "data": {
      "text/plain": [
       "3×1 Array{Float64,2}:\n",
       " 0.5\n",
       " 1.0\n",
       " 0.5"
      ]
     },
     "execution_count": 7,
     "metadata": {},
     "output_type": "execute_result"
    }
   ],
   "source": [
    "full(problem.assembly.f)"
   ]
  }
 ],
 "metadata": {
  "kernelspec": {
   "display_name": "Julia 0.6.0",
   "language": "julia",
   "name": "julia-0.6"
  },
  "language_info": {
   "file_extension": ".jl",
   "mimetype": "application/julia",
   "name": "julia",
   "version": "0.6.0"
  }
 },
 "nbformat": 4,
 "nbformat_minor": 2
}
